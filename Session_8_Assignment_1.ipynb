{
 "cells": [
  {
   "cell_type": "code",
   "execution_count": 2,
   "metadata": {},
   "outputs": [
    {
     "name": "stdout",
     "output_type": "stream",
     "text": [
      "[7, 2, 0, 3, 4, 2, 5, 0, 3, 4]\n",
      "[1, 2, 0, 1, 2, 3, 4, 0, 1, 2]\n"
     ]
    }
   ],
   "source": [
    "import numpy as np\n",
    "import pandas as pd\n",
    "import math\n",
    "\n",
    "# 1) How-to-count-distance-to-the-previous-zero \n",
    "# count the difference of the distance from the previous zero \n",
    "\n",
    "df = pd.DataFrame({'X': [7, 2, 0, 3, 4, 2, 5, 0, 3, 4]})\n",
    "idx = df.index[df['X']].tolist()\n",
    "print(idx)\n",
    "to_zero = [(idx[i::-1]+[0]).index(0) for i in range(len(idx))]\n",
    "print(to_zero)"
   ]
  },
  {
   "cell_type": "code",
   "execution_count": 3,
   "metadata": {},
   "outputs": [
    {
     "name": "stdout",
     "output_type": "stream",
     "text": [
      "DatetimeIndex(['2015-01-01', '2015-01-02', '2015-01-05', '2015-01-06',\n",
      "               '2015-01-07', '2015-01-08', '2015-01-09', '2015-01-12',\n",
      "               '2015-01-13', '2015-01-14',\n",
      "               ...\n",
      "               '2015-12-18', '2015-12-21', '2015-12-22', '2015-12-23',\n",
      "               '2015-12-24', '2015-12-25', '2015-12-28', '2015-12-29',\n",
      "               '2015-12-30', '2015-12-31'],\n",
      "              dtype='datetime64[ns]', length=261, freq='B')\n"
     ]
    },
    {
     "data": {
      "text/plain": [
       "2015-01-01    0.067404\n",
       "2015-01-02    0.717068\n",
       "2015-01-05    0.737879\n",
       "2015-01-06    0.594962\n",
       "2015-01-07    0.257665\n",
       "2015-01-08    0.378063\n",
       "2015-01-09    0.488488\n",
       "2015-01-12    0.747761\n",
       "2015-01-13    0.784871\n",
       "2015-01-14    0.950577\n",
       "2015-01-15    0.268621\n",
       "2015-01-16    0.333141\n",
       "2015-01-19    0.353309\n",
       "2015-01-20    0.539212\n",
       "2015-01-21    0.577135\n",
       "2015-01-22    0.067474\n",
       "2015-01-23    0.109236\n",
       "2015-01-26    0.300115\n",
       "2015-01-27    0.132556\n",
       "2015-01-28    0.587071\n",
       "2015-01-29    0.672996\n",
       "2015-01-30    0.739342\n",
       "2015-02-02    0.239048\n",
       "2015-02-03    0.011251\n",
       "2015-02-04    0.258553\n",
       "2015-02-05    0.309863\n",
       "2015-02-06    0.100477\n",
       "2015-02-09    0.552967\n",
       "2015-02-10    0.905657\n",
       "2015-02-11    0.867634\n",
       "                ...   \n",
       "2015-11-20    0.428222\n",
       "2015-11-23    0.616954\n",
       "2015-11-24    0.394315\n",
       "2015-11-25    0.180534\n",
       "2015-11-26    0.983369\n",
       "2015-11-27    0.704657\n",
       "2015-11-30    0.938007\n",
       "2015-12-01    0.274703\n",
       "2015-12-02    0.045972\n",
       "2015-12-03    0.025851\n",
       "2015-12-04    0.324291\n",
       "2015-12-07    0.839642\n",
       "2015-12-08    0.637505\n",
       "2015-12-09    0.674432\n",
       "2015-12-10    0.824861\n",
       "2015-12-11    0.773205\n",
       "2015-12-14    0.337185\n",
       "2015-12-15    0.632491\n",
       "2015-12-16    0.973107\n",
       "2015-12-17    0.670127\n",
       "2015-12-18    0.865128\n",
       "2015-12-21    0.836758\n",
       "2015-12-22    0.636955\n",
       "2015-12-23    0.808036\n",
       "2015-12-24    0.073060\n",
       "2015-12-25    0.024226\n",
       "2015-12-28    0.223391\n",
       "2015-12-29    0.771281\n",
       "2015-12-30    0.817378\n",
       "2015-12-31    0.319794\n",
       "Freq: B, Length: 261, dtype: float64"
      ]
     },
     "execution_count": 3,
     "metadata": {},
     "output_type": "execute_result"
    }
   ],
   "source": [
    "# 2) Create a DatetimeIndex that contains each business day of 2015 and use it to index a Series of random numbers. \n",
    "dti = pd.date_range(start='2015-01-01', end='2015-12-31', freq='B')\n",
    "print(dti)\n",
    "s = pd.Series(np.random.rand(len(dti)), index=dti)\n",
    "s"
   ]
  },
  {
   "cell_type": "code",
   "execution_count": 4,
   "metadata": {},
   "outputs": [
    {
     "data": {
      "text/plain": [
       "23.563035200145535"
      ]
     },
     "execution_count": 4,
     "metadata": {},
     "output_type": "execute_result"
    }
   ],
   "source": [
    "# 3) Find the sum of the values in s for every Wednesday.\n",
    "# Day of the week 0 = Monday, 1 = Tuesday, 3 = Wednesday, ect...\n",
    "s[dti.weekday == 2].sum()"
   ]
  },
  {
   "cell_type": "code",
   "execution_count": 5,
   "metadata": {},
   "outputs": [
    {
     "name": "stdout",
     "output_type": "stream",
     "text": [
      "1     0.472952\n",
      "2     0.382280\n",
      "3     0.572188\n",
      "4     0.408842\n",
      "5     0.540745\n",
      "6     0.520440\n",
      "7     0.581907\n",
      "8     0.542194\n",
      "9     0.515570\n",
      "10    0.548923\n",
      "11    0.496562\n",
      "12    0.539538\n",
      "dtype: float64\n"
     ]
    }
   ],
   "source": [
    "# 4) Average For each calendar month\n",
    "print(s.groupby(dti.month).mean())"
   ]
  },
  {
   "cell_type": "code",
   "execution_count": 6,
   "metadata": {},
   "outputs": [
    {
     "name": "stdout",
     "output_type": "stream",
     "text": [
      "2015-01-14    0.950577\n",
      "2015-02-10    0.905657\n",
      "2015-03-20    0.901050\n",
      "2015-04-06    0.986265\n",
      "2015-05-29    0.987983\n",
      "2015-06-15    0.972422\n",
      "2015-07-21    0.965453\n",
      "2015-08-12    0.938788\n",
      "2015-09-18    0.910509\n",
      "2015-10-20    0.994667\n",
      "2015-11-26    0.983369\n",
      "2015-12-16    0.973107\n",
      "dtype: float64\n",
      "Dates for which the highest value occurred in 4 consecutive months:\n",
      "2015-04-06\n",
      "2015-05-29\n",
      "2015-05-29\n",
      "2015-05-29\n",
      "2015-05-29\n",
      "2015-06-15\n",
      "2015-10-20\n",
      "2015-10-20\n",
      "2015-10-20\n"
     ]
    }
   ],
   "source": [
    "# 5) For each group of four consecutive calendar months in s, find the date on which the highest value occurred.\n",
    "scal_mon=pd.Series(s.groupby(dti.month).max().values,index=s.groupby(dti.month).idxmax())\n",
    "print(scal_mon)\n",
    "\n",
    "# Find the highest for every 4 consecutive months. \n",
    "# Form windows with 4 consecutive months and find the maximum from every window. \n",
    "print('Dates for which the highest value occurred in 4 consecutive months:')\n",
    "for i in range(9):\n",
    "    highval=scal_mon[i:4+i]\n",
    "    print(highval.idxmax().date())"
   ]
  },
  {
   "cell_type": "code",
   "execution_count": null,
   "metadata": {},
   "outputs": [],
   "source": []
  }
 ],
 "metadata": {
  "kernelspec": {
   "display_name": "Python 3",
   "language": "python",
   "name": "python3"
  },
  "language_info": {
   "codemirror_mode": {
    "name": "ipython",
    "version": 3
   },
   "file_extension": ".py",
   "mimetype": "text/x-python",
   "name": "python",
   "nbconvert_exporter": "python",
   "pygments_lexer": "ipython3",
   "version": "3.6.5"
  }
 },
 "nbformat": 4,
 "nbformat_minor": 2
}
